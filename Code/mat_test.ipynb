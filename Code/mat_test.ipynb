{
 "cells": [
  {
   "cell_type": "code",
   "execution_count": 1,
   "metadata": {},
   "outputs": [],
   "source": [
    "import numpy as np\n",
    "import scipy as sp"
   ]
  },
  {
   "cell_type": "code",
   "execution_count": 2,
   "metadata": {},
   "outputs": [],
   "source": [
    "N_t = 5\n",
    "T = 2\n",
    "tau = T / N_t\n",
    "gamma = 1\n",
    "\n",
    "Lambda_1 = 1 - 2 * np.exp(2j*np.pi/ N_t * np.arange(N_t)) + np.exp(4j*np.pi/(N_t) * np.arange(N_t))\n",
    "Lambda_2 = 1 + np.exp(4j*np.pi/N_t * np.arange(N_t))\n",
    "\n",
    "S1 = np.sqrt(-np.conj(Lambda_2) / Lambda_2)\n",
    "#S2 = - np.conj(S1)\n",
    "S2 = -np.sqrt(-Lambda_2 / np.conj(Lambda_2))\n",
    "\n",
    "m1 = np.real(Lambda_1/Lambda_2)\n",
    "M1 = np.diag(np.real(Lambda_1/Lambda_2))\n",
    "m2 = - tau ** 2 /np.conj(Lambda_2)/ np.sqrt(gamma)\n",
    "M2 = np.diag(- tau ** 2 /np.conj(Lambda_2)/ np.sqrt(gamma))\n",
    "m3 = tau ** 2 /Lambda_2/ np.sqrt(gamma)\n",
    "M3 = np.diag(tau ** 2 /Lambda_2/ np.sqrt(gamma))\n",
    "\n",
    "Gamma = 1j * tau ** 2 / np.sqrt(gamma) * np.abs(1/Lambda_2)\n",
    "\n",
    "Sigma_1 = m1 + m2 * S1\n",
    "Sigma_2 = m1 + m3 * S2\n",
    "# Sigma_1 = np.real(Lambda_1 / Lambda_2) + Gamma # Lambda1 Lambda2^-1 is real\n",
    "# Sigma_2 = np.conj(Sigma_1)\n",
    "#Sigma_2 = np.real(Lambda_1 / Lambda_2) - Gamma\n",
    "\n",
    "S1_mat = np.diag(S1)\n",
    "S2_mat = np.diag(S2)\n",
    "Sigma_1_mat = np.diag(Sigma_1)\n",
    "Sigma_2_mat = np.diag(Sigma_2)\n",
    "It = np.eye(N_t)\n",
    "\n",
    "S = np.block([\n",
    "    [It, S2_mat],\n",
    "    [S1_mat, It]\n",
    "])\n",
    "\n",
    "Sigma = np.block([\n",
    "    [Sigma_1_mat, np.zeros((N_t, N_t))],\n",
    "    [np.zeros((N_t, N_t)), Sigma_2_mat]\n",
    "])\n",
    "\n",
    "Lambda = np.block([\n",
    "    [M1, M2],\n",
    "    [M3, M1]\n",
    "])"
   ]
  },
  {
   "cell_type": "code",
   "execution_count": 21,
   "metadata": {},
   "outputs": [
    {
     "data": {
      "text/plain": [
       "array([[2.+0.j, 0.+0.j, 0.+0.j, 0.+0.j, 0.+0.j, 0.+0.j, 0.+0.j, 0.+0.j,\n",
       "        0.+0.j, 0.+0.j],\n",
       "       [0.+0.j, 2.+0.j, 0.+0.j, 0.+0.j, 0.+0.j, 0.+0.j, 0.+0.j, 0.+0.j,\n",
       "        0.+0.j, 0.+0.j],\n",
       "       [0.+0.j, 0.+0.j, 2.+0.j, 0.+0.j, 0.+0.j, 0.+0.j, 0.+0.j, 0.+0.j,\n",
       "        0.+0.j, 0.+0.j],\n",
       "       [0.+0.j, 0.+0.j, 0.+0.j, 2.+0.j, 0.+0.j, 0.+0.j, 0.+0.j, 0.+0.j,\n",
       "        0.+0.j, 0.+0.j],\n",
       "       [0.+0.j, 0.+0.j, 0.+0.j, 0.+0.j, 2.+0.j, 0.+0.j, 0.+0.j, 0.+0.j,\n",
       "        0.+0.j, 0.+0.j],\n",
       "       [0.+0.j, 0.+0.j, 0.+0.j, 0.+0.j, 0.+0.j, 2.+0.j, 0.+0.j, 0.+0.j,\n",
       "        0.+0.j, 0.+0.j],\n",
       "       [0.+0.j, 0.+0.j, 0.+0.j, 0.+0.j, 0.+0.j, 0.+0.j, 2.+0.j, 0.+0.j,\n",
       "        0.+0.j, 0.+0.j],\n",
       "       [0.+0.j, 0.+0.j, 0.+0.j, 0.+0.j, 0.+0.j, 0.+0.j, 0.+0.j, 2.+0.j,\n",
       "        0.+0.j, 0.+0.j],\n",
       "       [0.+0.j, 0.+0.j, 0.+0.j, 0.+0.j, 0.+0.j, 0.+0.j, 0.+0.j, 0.+0.j,\n",
       "        2.+0.j, 0.+0.j],\n",
       "       [0.+0.j, 0.+0.j, 0.+0.j, 0.+0.j, 0.+0.j, 0.+0.j, 0.+0.j, 0.+0.j,\n",
       "        0.+0.j, 2.+0.j]])"
      ]
     },
     "execution_count": 21,
     "metadata": {},
     "output_type": "execute_result"
    }
   ],
   "source": [
    "S@np.conj(S.T)"
   ]
  },
  {
   "cell_type": "code",
   "execution_count": 3,
   "metadata": {},
   "outputs": [],
   "source": [
    "l1mat = np.diag(Lambda_1)\n",
    "l2mat = np.diag(Lambda_2)\n"
   ]
  },
  {
   "cell_type": "code",
   "execution_count": 4,
   "metadata": {},
   "outputs": [],
   "source": [
    "from scipy.fft import fft, ifft"
   ]
  },
  {
   "cell_type": "code",
   "execution_count": 5,
   "metadata": {},
   "outputs": [],
   "source": [
    "It = np.eye(N_t)\n",
    "A=ifft(l1mat.conj()@fft(It, axis=0), axis=0)\n",
    "B = fft(l2mat@ifft(It, axis=0), axis=0)"
   ]
  },
  {
   "cell_type": "code",
   "execution_count": 19,
   "metadata": {},
   "outputs": [],
   "source": [
    "C = ifft(l2mat.conj()@fft(It, axis=0), axis=0)"
   ]
  },
  {
   "cell_type": "code",
   "execution_count": 20,
   "metadata": {},
   "outputs": [
    {
     "data": {
      "text/plain": [
       "1.1446916827617274e-15"
      ]
     },
     "execution_count": 20,
     "metadata": {},
     "output_type": "execute_result"
    }
   ],
   "source": [
    "np.linalg.norm(B-C)"
   ]
  },
  {
   "cell_type": "code",
   "execution_count": 6,
   "metadata": {},
   "outputs": [
    {
     "data": {
      "text/plain": [
       "array([[ 1, -2,  1,  0,  0],\n",
       "       [ 0,  1, -2,  1,  0],\n",
       "       [ 0,  0,  1, -2,  1],\n",
       "       [ 1,  0,  0,  1, -2],\n",
       "       [-2,  1,  0,  0,  1]])"
      ]
     },
     "execution_count": 6,
     "metadata": {},
     "output_type": "execute_result"
    }
   ],
   "source": [
    "C1 = sp.linalg.circulant([1,-2,1,0,0])\n",
    "C1.T"
   ]
  },
  {
   "cell_type": "code",
   "execution_count": 7,
   "metadata": {},
   "outputs": [
    {
     "data": {
      "text/plain": [
       "8.415866960485804e-16"
      ]
     },
     "execution_count": 7,
     "metadata": {},
     "output_type": "execute_result"
    }
   ],
   "source": [
    "np.linalg.norm(A-C1)"
   ]
  },
  {
   "cell_type": "code",
   "execution_count": 11,
   "metadata": {},
   "outputs": [
    {
     "data": {
      "text/plain": [
       "array([[ 1.00000000e+00+5.55111512e-17j,  0.00000000e+00+2.77555756e-17j,\n",
       "         8.32667268e-17+6.93889390e-17j,  1.00000000e+00-2.08166817e-16j,\n",
       "        -1.11022302e-16+4.16333634e-17j],\n",
       "       [-5.55111512e-17+5.40493157e-17j,  1.00000000e+00+9.58473060e-17j,\n",
       "         0.00000000e+00+2.23342134e-17j,  2.77555756e-17+3.53672269e-17j,\n",
       "         1.00000000e+00-1.72619538e-16j],\n",
       "       [ 1.00000000e+00-2.18236841e-16j, -2.22044605e-16+2.22605115e-17j,\n",
       "         1.00000000e+00+7.22957477e-17j,  0.00000000e+00+7.93940415e-17j,\n",
       "        -1.00828030e-17+2.31281915e-18j],\n",
       "       [ 0.00000000e+00+6.63545581e-17j,  1.00000000e+00-1.91296684e-16j,\n",
       "        -1.11022302e-16+6.36840058e-17j,  1.00000000e+00+7.12368825e-17j,\n",
       "         1.00828030e-17+1.16513045e-16j],\n",
       "       [ 5.55111512e-17+4.23218163e-17j,  1.11022302e-16+4.54332908e-17j,\n",
       "         1.00000000e+00-2.27702906e-16j, -2.77555756e-17+2.21686663e-17j,\n",
       "         1.00000000e+00+1.21603098e-17j]])"
      ]
     },
     "execution_count": 11,
     "metadata": {},
     "output_type": "execute_result"
    }
   ],
   "source": [
    "B"
   ]
  },
  {
   "cell_type": "code",
   "execution_count": 9,
   "metadata": {},
   "outputs": [],
   "source": [
    "RHS = S @ Sigma\n",
    "LHS = Lambda @ S"
   ]
  },
  {
   "cell_type": "code",
   "execution_count": 10,
   "metadata": {},
   "outputs": [
    {
     "name": "stdout",
     "output_type": "stream",
     "text": [
      "[[0.+0.00000000e+00j 0.+0.00000000e+00j 0.+0.00000000e+00j\n",
      "  0.+0.00000000e+00j 0.+0.00000000e+00j 0.+0.00000000e+00j\n",
      "  0.+0.00000000e+00j 0.+0.00000000e+00j 0.+0.00000000e+00j\n",
      "  0.+0.00000000e+00j]\n",
      " [0.+0.00000000e+00j 0.+0.00000000e+00j 0.+0.00000000e+00j\n",
      "  0.+0.00000000e+00j 0.+0.00000000e+00j 0.+0.00000000e+00j\n",
      "  0.+0.00000000e+00j 0.+0.00000000e+00j 0.+0.00000000e+00j\n",
      "  0.+0.00000000e+00j]\n",
      " [0.+0.00000000e+00j 0.+0.00000000e+00j 0.+0.00000000e+00j\n",
      "  0.+0.00000000e+00j 0.+0.00000000e+00j 0.+0.00000000e+00j\n",
      "  0.+0.00000000e+00j 0.+0.00000000e+00j 0.+0.00000000e+00j\n",
      "  0.+0.00000000e+00j]\n",
      " [0.+0.00000000e+00j 0.+0.00000000e+00j 0.+0.00000000e+00j\n",
      "  0.+0.00000000e+00j 0.+0.00000000e+00j 0.+0.00000000e+00j\n",
      "  0.+0.00000000e+00j 0.+0.00000000e+00j 0.+0.00000000e+00j\n",
      "  0.+0.00000000e+00j]\n",
      " [0.+0.00000000e+00j 0.+0.00000000e+00j 0.+0.00000000e+00j\n",
      "  0.+0.00000000e+00j 0.+0.00000000e+00j 0.+0.00000000e+00j\n",
      "  0.+0.00000000e+00j 0.+0.00000000e+00j 0.+0.00000000e+00j\n",
      "  0.+1.11022302e-16j]\n",
      " [0.+0.00000000e+00j 0.+0.00000000e+00j 0.+0.00000000e+00j\n",
      "  0.+0.00000000e+00j 0.+0.00000000e+00j 0.+0.00000000e+00j\n",
      "  0.+0.00000000e+00j 0.+0.00000000e+00j 0.+0.00000000e+00j\n",
      "  0.+0.00000000e+00j]\n",
      " [0.+0.00000000e+00j 0.+0.00000000e+00j 0.+0.00000000e+00j\n",
      "  0.+0.00000000e+00j 0.+0.00000000e+00j 0.+0.00000000e+00j\n",
      "  0.+0.00000000e+00j 0.+0.00000000e+00j 0.+0.00000000e+00j\n",
      "  0.+0.00000000e+00j]\n",
      " [0.+0.00000000e+00j 0.+0.00000000e+00j 0.+0.00000000e+00j\n",
      "  0.+0.00000000e+00j 0.+0.00000000e+00j 0.+0.00000000e+00j\n",
      "  0.+0.00000000e+00j 0.+0.00000000e+00j 0.+0.00000000e+00j\n",
      "  0.+0.00000000e+00j]\n",
      " [0.+0.00000000e+00j 0.+0.00000000e+00j 0.+0.00000000e+00j\n",
      "  0.+0.00000000e+00j 0.+0.00000000e+00j 0.+0.00000000e+00j\n",
      "  0.+0.00000000e+00j 0.+0.00000000e+00j 0.+0.00000000e+00j\n",
      "  0.+0.00000000e+00j]\n",
      " [0.+0.00000000e+00j 0.+0.00000000e+00j 0.+0.00000000e+00j\n",
      "  0.+0.00000000e+00j 0.+1.11022302e-16j 0.+0.00000000e+00j\n",
      "  0.+0.00000000e+00j 0.+0.00000000e+00j 0.+0.00000000e+00j\n",
      "  0.+0.00000000e+00j]]\n"
     ]
    },
    {
     "data": {
      "text/plain": [
       "1.5700924586837752e-16"
      ]
     },
     "execution_count": 10,
     "metadata": {},
     "output_type": "execute_result"
    }
   ],
   "source": [
    "E = LHS-RHS\n",
    "print(E)\n",
    "np.linalg.norm(E)"
   ]
  }
 ],
 "metadata": {
  "kernelspec": {
   "display_name": "firedrake",
   "language": "python",
   "name": "python3"
  },
  "language_info": {
   "codemirror_mode": {
    "name": "ipython",
    "version": 3
   },
   "file_extension": ".py",
   "mimetype": "text/x-python",
   "name": "python",
   "nbconvert_exporter": "python",
   "pygments_lexer": "ipython3",
   "version": "3.10.12"
  }
 },
 "nbformat": 4,
 "nbformat_minor": 2
}
